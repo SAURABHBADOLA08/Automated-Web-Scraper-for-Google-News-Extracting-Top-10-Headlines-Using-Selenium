{
 "cells": [
  {
   "cell_type": "code",
   "execution_count": 18,
   "id": "f599c6da",
   "metadata": {},
   "outputs": [],
   "source": [
    "from selenium import webdriver\n",
    "from selenium.webdriver.chrome.options import Options\n",
    "from selenium.webdriver.common.by import By"
   ]
  },
  {
   "cell_type": "code",
   "execution_count": 19,
   "id": "c2256785",
   "metadata": {},
   "outputs": [],
   "source": [
    "options=Options()\n",
    "driver=webdriver.Chrome(options=options)"
   ]
  },
  {
   "cell_type": "code",
   "execution_count": 20,
   "id": "62eb1b31",
   "metadata": {},
   "outputs": [],
   "source": [
    "driver.get(\"https://www.google.com/\")"
   ]
  },
  {
   "cell_type": "code",
   "execution_count": 12,
   "id": "cdc2a28d",
   "metadata": {},
   "outputs": [],
   "source": [
    "Input_field=driver.find_element(By.XPATH,'//*[@id=\"APjFqb\"]')\n",
    "Input_field.send_keys(\"Today Top 10  News \")"
   ]
  },
  {
   "cell_type": "code",
   "execution_count": 13,
   "id": "3c4cd7ff",
   "metadata": {},
   "outputs": [],
   "source": [
    "Search_Button=driver.find_element(\"xpath\",'/html/body/div[1]/div[3]/form/div[1]/div[1]/div[2]/div[4]/div[6]/center/input[1]')\n",
    "Search_Button.submit()"
   ]
  },
  {
   "cell_type": "code",
   "execution_count": 14,
   "id": "e408c5bf",
   "metadata": {},
   "outputs": [],
   "source": [
    "news_button=driver.find_element(By.XPATH,'//*[@id=\"hdtb-sc\"]/div/div[1]/div[1]/div/div[2]/a').click()"
   ]
  },
  {
   "cell_type": "code",
   "execution_count": 8,
   "id": "9d925323",
   "metadata": {},
   "outputs": [
    {
     "name": "stdout",
     "output_type": "stream",
     "text": [
      "First News Headline :  India TV Sports Wrap on July 10: Today's top 10 trending news stories\n"
     ]
    }
   ],
   "source": [
    "First_Headline_news=driver.find_element(\"xpath\",'//*[@id=\"rso\"]/div/div/div[1]/div/div/a/div/div[2]/div[2]').text\n",
    "print(\"First News Headline : \",First_Headline_news)"
   ]
  },
  {
   "cell_type": "code",
   "execution_count": 15,
   "id": "287512a8",
   "metadata": {},
   "outputs": [
    {
     "name": "stdout",
     "output_type": "stream",
     "text": [
      "Second News Headline :  The Hindu\n",
      "Top news of the day: July 10, 2024\n",
      "In Austria, PM Modi reaffirms 'this is not time for war'; Shiv Sena sacks Mumbai hit-and-run key accused Mihir Shah's father Rajesh Shah...\n",
      ".\n",
      "16 hours ago\n",
      "The Indian Express\n",
      "Today’s Top News Headlines and Latest News at 8:30 pm on 10 July 2024\n",
      "From Prime Minister Narendra Modi's Austria visit to Pakistan's top spy agency getting legal powers to intercept telephone calls,...\n",
      ".\n",
      "15 hours ago\n",
      "India TV News\n",
      "India TV Sports Wrap on July 10: Today's top 10 trending news stories\n",
      "India TV Sports Wrap on July 10: From all the football action to the cricketing circuit, here are all the top 10 trending sports news...\n",
      ".\n",
      "1 day ago\n",
      "mint\n",
      "Top Gainers and Losers today on 10 July, 2024: Asian Paints, SBI Life Insurance Company, Mahindra & Mahindra, Tata Steel among most active stocks; Check full list here | Stock Market News\n",
      "Top Gainers and Losers Today : The Sensex lost 426.87 points, or -0.53, to settle at 80351.64, while the Nifty lost 108.75 points, or -0.45,...\n",
      ".\n",
      "19 hours ago\n",
      "India Infoline\n",
      "Top 10 stocks for today – 11th July 2024\n",
      "Here are some of the stocks that may see significant price movement today: SBI, Sula Vineyards, Zydus Lifesciences, Kesoram Industries, etc.\n",
      ".\n",
      "3 hours ago\n",
      "Jagran Josh\n",
      "Today’s School Assembly Headlines (10 July): CUET UG Result 2024, PM Modi-Putin Dinner, The Union Budget 2024 and Other News in English\n",
      "10 July, 2024 News Headlines in English for School Assembly: Here are the detailed headlines for the morning assembly covering major sectors including...\n",
      ".\n",
      "1 day ago\n",
      "Moneycontrol\n",
      "First Tick: Top 10 global cues for the trade\n",
      "Benchmark indices Sensex and Nifty 50 are likely to open on flat on July 10, tracking cues from GIFT Nifty which was trading near 24,488.50,...\n",
      ".\n",
      "1 day ago\n",
      "Times of India\n",
      "India’s Biggest Port, Vadhavan Port, Will Be Among The World's Top 10 Container Ports! Stunning Facts You Shouldn't Miss\n",
      "Vadhavan port: Did you know that India aims to build its largest ever container port - and one that will be among the top 10 in the world?\n",
      ".\n",
      "2 days ago\n",
      "mint\n",
      "Top 7 news on 10 July: Stock market falls, 18 killed in Unnao accident, PM Modi's visit to Austria & more | Today News\n",
      "Top news today: On 10 July, a series of events are set to take place right from politics to business. Indian stock market indices ended...\n",
      ".\n",
      "16 hours ago\n",
      "India TV News\n",
      "India TV Sports Wrap on July 9: Today's top 10 trending news stories\n",
      "David Warner closed his international cricket chapter but still kept a few pages fluttering as he mentioned that he is open to returning for...\n",
      ".\n",
      "2 days ago\n"
     ]
    }
   ],
   "source": [
    "Extract_whole_news_headline=driver.find_element(\"xpath\",'//*[@id=\"rso\"]/div/div').text\n",
    "print(\"Second News Headline : \" , Extract_whole_news_headline )"
   ]
  },
  {
   "cell_type": "code",
   "execution_count": 16,
   "id": "a6f7c508",
   "metadata": {},
   "outputs": [],
   "source": [
    "click_news_channel=driver.find_element('xpath','//*[@id=\"rso\"]/div/div/div[1]/div/div/a/div/div[2]/div[2]').click()"
   ]
  },
  {
   "cell_type": "code",
   "execution_count": 11,
   "id": "e899b569",
   "metadata": {},
   "outputs": [
    {
     "name": "stdout",
     "output_type": "stream",
     "text": [
      "Second News Headline :  Here are some of the stocks that may see significant price movement today.\n",
      "ONGC: The state-owned corporation plans to invest over 2 lakh Crore in renewable energy sites, green hydrogen facilities, and zero gas flaring to reach its 2038 net-zero carbon emission target. By 2030, it plans to invest ₹97,000 Crore in renewable energy projects like as 5 gigawatts, green hydrogen, biogas, pump storage, and offshore wind.\n",
      "Wipro: The software company said that it has settled a lawsuit filed by Wipro Ltd against its former CFO, Jatin Dalal. According to a US SEC filing dated July 2, 2024, Cognizant received board of directors’ approval for a $505,087 payment to cover the settlement and legal expenditures associated with the issue.\n",
      "Reliance Industries: The business announced the JioTag Air, the successor to last year’s JioTag. The new asset tracker is intended to assist customers identify and track precious items such as keys, ID cards, wallets, handbags, baggage, and even pets.\n",
      "RVNL: The South Eastern Railway awarded the project for ₹202.87 Crore to a state-owned contractor with the lowest price. The project entails designing, supplying, erecting, testing, and commissioning a 132 KV traction substation, sectioning posts, and sub-sectioning posts in a 2x25KV system for the Kharagpur-Bhadrak section of the Kharagpur division.\n",
      "Mahindra & Mahindra: The business announced on Tuesday a special festive ex-showroom price for the AX7 line. This commemorative discount, available for four months, coincides with the XUV700’s forthcoming three-year market anniversary. The SUV also just reached a milestone, producing 2,000,000 units in less than three years.\n",
      "Mankind Pharma: According to sources, Capital Group subsidiary Hema CIPEF is planning to sell a 0.9% share in a pharmaceutical company through block sales. The block’s total issue size is ₹762.6 Crore, with an issue price of ₹2,061 per share, representing a 2% discount to the prevailing market price (CMP).\n",
      "Delhivery: The Canada Pension Plan Investment Board plans to sell its entire 3.18% stake in a logistics firm through block deals. The issue size is ₹886 Crore, with an offer price range of ₹378 to ₹389 per share, representing a discount of 0.7% to 3.5% from the current market price (CMP).\n",
      "Delta Corp: In the first quarter of 2024, the online gaming company’s net profit decreased by 68.04% to ₹21.7 Crore compared to the previous year. It reported a net profit of ₹67.9 Crore. The company’s revenue from operations decreased by 30.3% to ₹180.7 Crore, down from ₹259.3 Crore in the previous fiscal year.\n",
      "Infosys: The IT company announced a five-year strategic agreement with Sector Alarm to migrate its core corporate business processes to the cloud. Infosys will collaborate closely with Sector Alarm to convert their fragmented on-premises Enterprise Resource Planning software to Microsoft Dynamics 365 Finance and Operations (F&O).\n",
      "Phoenix Mills: The company’s subsidiary invested ₹4.6 Crore in O2 Renewable Energy XIII Private Limited by subscribing to 4,68,282 equity shares and 42,145 obligatory convertible debentures to purchase renewable energy. Following this acquisition, the subsidiary will have a 30.95% share in O2 Renewable XIII.  \n",
      "For feedback and suggestions, write to us at editorial@iifl.com\n"
     ]
    }
   ],
   "source": [
    "Extract_whole_news=driver.find_element(\"xpath\",'/html/body/div[5]/div[1]/div[2]/div/div[1]/div[3]').text\n",
    "print(\"Second News Headline : \" , Extract_whole_news )"
   ]
  },
  {
   "cell_type": "code",
   "execution_count": 42,
   "id": "b4404e05",
   "metadata": {},
   "outputs": [],
   "source": [
    "driver.quit()"
   ]
  },
  {
   "cell_type": "code",
   "execution_count": 17,
   "id": "037fc301",
   "metadata": {},
   "outputs": [
    {
     "name": "stdout",
     "output_type": "stream",
     "text": [
      "Second News Headline :  In Austria, PM Modi reaffirms that ‘this is not time for war’\n",
      "Prime Minister Narendra Modi on July 10 said he held a “fruitful discussion” with Austrian Chancellor Karl Nehammer during which they discussed in detail the ongoing disputes in the world, including the Ukraine conflict and situation in West Asia, reaffirming that “this is not the time for war”. Mr. Modi arrived in Vienna on a two-day visit — the first by an Indian prime minister in over 40 years — also said India and Austria identified new possibilities to further strengthen mutual cooperation and prepared a blueprint for cooperation for the coming decade.\n",
      "BMW crash case: Shiv Sena sacks key accused Mihir Shah’s father Rajesh Shah from party post\n",
      "Maharashtra Chief Minister Eknath Shinde, who heads the Shiv Sena, on July 10 sacked Rajesh Shah, whose son Mihir Shah was allegedly involved in the BMW hit-and-run, as the party’s deputy leader. A one-line notice by Shiv Sena secretary Sanjay More said Rajesh Shah has been relieved from the post of the party’s deputy leader. Mr. Shah, however, continues to be a member of the Shiv Sena.\n",
      "Assembly bypolls: Sporadic violence reported in Uttarakhand, West Bengal\n",
      "Moderate to brisk polling was recorded in 13 Assembly constituencies across seven States where bypolls were underway amid sporadic incidents of violence in Uttarakhand and West Bengal. The electoral exercise, the first since the Lok Sabha polls, will decide the fate of many veterans and some debutantes, including Himachal Pradesh Chief Minister Sukhvinder Singh Sukhu’s wife Kamlesh Thakur. Barring Uttarakhand and West Bengal, polling has been peaceful in the rest of the States so far.\n",
      "In a first, 108 kg gold biscuits seized near defined China border in Eastern Ladakh, two locals arrested\n",
      "The Indo Tibetan Border Police arrested two men near the China border in Eastern Ladakh on July 9 for allegedly smuggling 108 kg of gold biscuits from China. While smuggling of smaller items was common, it was the first time ever that an alleged gold smuggling racket was exposed in the area with the arrest of two locals. Another person has been detained, an ITBP official said. The accused were intercepted by an ITBP team that was out on a Long Range Patrolling in the border areas in Southern Sub Sector in Eastern Ladakh to check infiltration and smuggling amid specific inputs of smuggling in the area near Sirigaple, Ladakh.\n",
      "Muslim woman entitled to seek maintenance from spouse: Supreme Court\n",
      "The Supreme Court on July 10 ruled that a Muslim woman can seek maintenance from her husband under Section 125 of the Code of Criminal Procedure (CrPC), which is applicable to all married women irrespective of religion. A Bench of Justices B.V. Nagarathna and Augustine George Masih, which pronounced a separate but concurrent verdict, said Section 125 of the erstwhile CrPC which deals with wife’s legal right to maintenance, covers Muslim women.\n",
      "Supreme Court reserves verdict on plea highlighting caste-based discrimination of prisoners\n",
      "The Supreme Court on July 10 indicated its intention to ask the Ministry of Home Affairs to intervene with States to re-haul their prison manuals and wipe out hardly acknowledged but existing practices of caste-based discrimination of prisoners. Though States like Uttar Pradesh denied caste-based discrimination within their prison walls, a Bench headed by the Chief Justice of India D.Y. Chandrachud read out portions from its prison documents, which use terms like “scavenger class”.\n",
      "Supreme Court upholds maintainability of West Bengal suit accusing Centre of interference in federalism using CBI without State consent\n",
      "The Supreme Court on July 10 upheld the maintainability of a suit filed by the State of West Bengal accusing the Union Government accusing the Centre of “constitutional overreach” and violation of federalism by unilaterally employing the Central Bureau of Investigation without the State’s prior consent. A Bench led by Justice BR Gavai refused to accept the Union’s preliminary objections to the suit, including that the Union did not control the CBI. Solicitor General Tushar Mehta, for the Union, had argued that the Centre was not the master of the CBI.\n",
      "Supreme Court judge Sanjiv Khanna recuses from considering review pleas on same-sex marriage\n",
      "Senior-most Supreme Court judge Sanjiv Khanna on July 10 recused himself from considering pleas seeking review of the apex court’s judgement last year declining legal recognition to same-sex marriage, sources said. According to the sources, Justice Khanna has cited personal reasons for his recusal. The recusal of Justice Khanna would necessitate reconstitution of a fresh five-judge constitution bench by Chief Justice D Y Chandrachud for considering the review pleas.\n",
      "Jaishankar to host BIMSTEC Foreign Ministers at 2-day retreat\n",
      "External Affairs Minister S. Jaishankar will host his counterparts from the BIMSTEC member countries at a two-day retreat beginning July 11 in the national capital. The retreat will present an opportunity for the Foreign Ministers to discuss avenues to deepen cooperation across various sectors, including security, connectivity and trade, the Ministry of External Affairs said.\n",
      "Bihar bridge collapse: Another bridge collapses in Bihar, 13th such mishap in three weeks\n",
      "Bihar witnessed another bridge collapse on July 10, making it the 13th such incident in the State in a span of three weeks, an official said. The bridge collapsed at Mahishi village in Saharsa district earlier in the day, he said. “It might be a small bridge or causeway. District officials have left for the spot. We are trying to gather more information about the incident,” Additional Collector (Saharsa), Jyoti Kumar, said.\n",
      "Delhi High Court lists ED’s plea against bail to Arvind Kejriwal for July 15\n",
      "The Delhi High Court on July 10 listed for July 15 the ED plea challenging bail granted to Chief Minister Arvind Kejriwal in the money-laundering case stemming from the alleged excise scam. The High Court had earlier stayed the trial court’s June 20 order by which Mr. Kejriwal was granted bail in the case. Justice Neena Bansal Krishna, who was scheduled to hear the plea, was informed by the counsel for the ED that they were served with Mr. Kejriwal’s reply to their petition only late Tuesday night (July 9) and the agency requires some time to file a rejoinder.\n",
      "557 farmers ended lives in six months this year in Maharashtra’s Amravati: Government report\n",
      "As many as 557 farmers have died by suicide in five districts under the Amravati administrative division of Maharashtra between January and June this year, an official report said. The five districts in the division are Amravati, Akola, Buldhana, Washim and Yavatmal. A report prepared by the Amravati divisional commissionerate said 557 farmers ended their lives in the division from January to June this year. The highest number of 170 suicides were recorded in Amravati district, followed by 150 in Yavatmal, 111 in Buldhana, 92 in Akola and 34 in Washim. (Those in distress or having suicidal tendencies could seek help and counselling by calling the following numbers: BMC Mental Health Helpline: 022-24131212 (24x7); Vandrevala Foundation: 18602662345/18002333330 (24x7); I Call - 022-25521111 (Monday to Saturday, 8 a.m. to 10 p.m.); ASRA - 022 2754 6669 (24x7); The Samaritans Mumbai: 8422984528/842984529/8422984530 ( 5 p.m. -8 p.m., all days). More helpline numbers across the country are available in this link)\n",
      "U.K. police search for man armed with crossbow after 3 women killed in home near London\n",
      "British police were hunting for a man believed to be armed with a crossbow on July 10 after three women were killed in a house near London. Hertfordshire Police said Kyle Clifford, 26, was being sought over the suspected triple murder. Chief Superintendent Jon Simpson of Herfordshire Police said Clifford is believed to have targeted the women, who were related.\n",
      "Donald Trump calls Kamala Harris as an ‘insurance policy’ for Joe Biden\n",
      "Donald Trump, the former U.S. president and presumptive presidential nominee of the Republican Party, has attacked Vice President Kamala Harris, raising questions on her competence and describing her as an “insurance policy” for incumbent President Joe Biden. His attack against Ms. Harris, who is of Indian and African heritage, came amid chatter in the Democratic Party about whether President Biden should remain the nominee in the November 5 presidential election.\n",
      "Newly-appointed U.S. envoy to Taiwan pledges to help the island with self-defence as threats from China loom\n",
      "The United States’ new top envoy to Taiwan promised on July 10 that Washington will help the self-ruled island defend itself as China ramps up its military threats. Raymond Greene, who assumed his new role as director of the American Institute in Taiwan on July 8, met with Taiwanese President Lai Ching-te. “First of all, and the most important thing, the U.S. will strongly support Taiwan’s self-defense capabilities,” Mr. Greene said. “We both have common and long-term interests in peace and stability over the Taiwan Strait.”\n",
      "Markets sink below record levels; Sensex tanks over 400 pts on widespread profit booking\n",
      "Equity benchmark indices Sensex and Nifty buckled under heavy selling pressure to sink below record high levels on July 10, tracking deep losses in metal, auto and IT stocks amid widespread profit booking after recent gains. Rising uncertainty over interest rate cut by the U.S. Federal Reserve also added to the weak trend in domestic equities, traders said. The 30-share BSE Sensex opened 129.72 points higher to hit a fresh all-time high of 80,481.36. However, the index soon tumbled 915.88 points or 1.13% to trade at 79,435.76. It finally closed lower by 426.87 points or 0.53% at 79,924.77.\n",
      "Dravid happy to forgo bonus amount after T20 World Cup triumph\n",
      "Former India head coach Rahul Dravid has refused to take the bonus amount of ₹2.5 crore offered to him by the BCCI following the recent T-20 World Cup triumph in the Americas. Dravid was offered the bonus amount following the national team’s success but he was happy to settle for the due amount (₹2.5 crore) similar to other coaching staff. The BCCI wanted to repay Dravid for guiding India to the trophy in Barbados by hiking his reward to ₹5 crore, which is at par with the players, PTI has learnt that the 51-year-old was happy with an equal pay check as other coaching staff.\n",
      "READ COMMENTS\n",
      "READ LATER\n",
      "PRINT\n",
      "You may like...\n",
      "In Austria, PM Modi reaffirms that 'this is not time for war'\n",
      "❮\n",
      "❯\n"
     ]
    }
   ],
   "source": [
    "Extract_whole_news_headline=driver.find_element(\"xpath\",'//*[@id=\"content-body-68389452\"]').text\n",
    "print(\"Second News Headline : \" , Extract_whole_news_headline )"
   ]
  },
  {
   "cell_type": "code",
   "execution_count": null,
   "id": "65863584",
   "metadata": {},
   "outputs": [],
   "source": []
  }
 ],
 "metadata": {
  "kernelspec": {
   "display_name": "Python 3 (ipykernel)",
   "language": "python",
   "name": "python3"
  },
  "language_info": {
   "codemirror_mode": {
    "name": "ipython",
    "version": 3
   },
   "file_extension": ".py",
   "mimetype": "text/x-python",
   "name": "python",
   "nbconvert_exporter": "python",
   "pygments_lexer": "ipython3",
   "version": "3.11.5"
  }
 },
 "nbformat": 4,
 "nbformat_minor": 5
}
